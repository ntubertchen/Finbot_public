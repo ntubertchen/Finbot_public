{
 "cells": [
  {
   "cell_type": "code",
   "execution_count": 56,
   "metadata": {
    "collapsed": false
   },
   "outputs": [
    {
     "name": "stdout",
     "output_type": "stream",
     "text": [
      "?\n",
      "done\n",
      "30.792\n"
     ]
    }
   ],
   "source": [
    "import sqlite3\n",
    "\n",
    "##given the full name return symbol\n",
    "def name2sym(string):\n",
    "    conn = sqlite3.connect('share_data.db3')\n",
    "    cursor = conn.cursor()\n",
    "    string = string + '%'\n",
    "    cursor.execute('select * from symbols where full_name like ?', (string,))\n",
    "    result = cursor.fetchall()[0][0]\n",
    "    cursor.close()\n",
    "    conn.close()\n",
    "    return result\n",
    "\n",
    "##use symbol above to get share information at a given date\n",
    "## symbol, date are both string\n",
    "def query(symbol, date):\n",
    "    conn = sqlite3.connect('share_data.db3')\n",
    "    cursor = conn.cursor()\n",
    "    cursor.execute(\"select * from '%s' where symbol=?\"%date, (symbol,))\n",
    "    a = cursor.fetchall()\n",
    "    cursor.close()\n",
    "    conn.close()\n",
    "    openn = a[0][2]\n",
    "    high = a[0][3]\n",
    "    low = a[0][4]\n",
    "    close = a[0][5]\n",
    "    volume = a[0][6]\n",
    "    adj_close = a[0][7]\n",
    "    return openn, high, low, close, volume, adj_close\n",
    "\n",
    "# buy = 'buy' or 'sell'\n",
    "# type = 'cash' or 'spot'\n",
    "def get_exchange_rate(money_name, buy, types):\n",
    "    conn = sqlite3.connect('share_data.db3')\n",
    "    cursor = conn.cursor()\n",
    "    cursor.execute('select * from exchange_rate where money_name=?', (money_name,))\n",
    "    result = cursor.fetchall()\n",
    "    cursor.close()\n",
    "    conn.close()\n",
    "    if buy == 'buy':\n",
    "        if types == 'cash':\n",
    "            print('done')\n",
    "            return result[0][3]\n",
    "        elif types == 'spot':\n",
    "            return result[0][4]\n",
    "    elif buy == 'sell':\n",
    "        if types == 'cash':\n",
    "            return result[0][1]\n",
    "        elif types == 'spot':\n",
    "            return result[0][2]"
   ]
  },
  {
   "cell_type": "code",
   "execution_count": 56,
   "metadata": {
    "collapsed": false
   },
   "outputs": [
    {
     "data": {
      "text/plain": [
       "0.032671197072660745"
      ]
     },
     "execution_count": 56,
     "metadata": {},
     "output_type": "execute_result"
    }
   ],
   "source": [
    "import requests\n",
    "\n",
    "#country12 are string\n",
    "def exchange(country1, country2):\n",
    "    r=requests.get('https://tw.rter.info/capi.php')\n",
    "    currency=r.json()\n",
    "    if country1 == 'USD':\n",
    "        q = country1 + country2\n",
    "        return float(currency[q]['Exrate'])\n",
    "    elif country2 == 'USD':\n",
    "        q = country2 + country1\n",
    "        return 1 / float(currency[q]['Exrate'])\n",
    "    else:\n",
    "        q1 = 'USD' + country1\n",
    "        q2 = 'USD' + country2\n",
    "        return float(currency[q2]['Exrate']) / float(currency[q1]['Exrate'])\n",
    "\n",
    "exchange('TWD', 'USD')"
   ]
  },
  {
   "cell_type": "code",
   "execution_count": 9,
   "metadata": {
    "collapsed": false
   },
   "outputs": [
    {
     "data": {
      "text/plain": [
       "'Share price on date 20170102  openn : 19.91     high : 20.00     low : 19.82     close : 19.98     volume : 1518900     '"
      ]
     },
     "execution_count": 9,
     "metadata": {},
     "output_type": "execute_result"
    }
   ],
   "source": [
    "from  exchange import exchange\n",
    "from full_name2symbol import *\n",
    "\n",
    "def RuleBasedNlg(action,slots):\n",
    "    response = ''\n",
    "    if action == 'exchange':\n",
    "        rate = exchange(slots[0],slots[1])\n",
    "        response = \"The exchange rate from {0} to {1} is {2}\".format( slots[0], slots[1], rate)\n",
    "\n",
    "    elif action == 'get_exchange_rate':\n",
    "        currency = slots[0]\n",
    "        ex_type = slots[1]\n",
    "        direction = slots[2]\n",
    "        rate = get_exchange_rate(slots[0],slots[1],slots[2])\n",
    "        response = \"The {1} exchange rate for {0} NTD {2} {3} is {4} in BANK OF TAIWAN\".format(ex_type+'ing', direction, 'from' if ex_type == 'buy' else 'for', currency, rate)\n",
    "\n",
    "    elif action == 'query':\n",
    "        symbol = name2sym(slot[0])\n",
    "        date = slot[1]\n",
    "        data = query(symbol,date)\n",
    "        item = ['openn', 'high', 'low', 'close', 'volume']\n",
    "        response = \"Share price on date {0}  \".format(date)\n",
    "        for i in range(len(item)):\n",
    "            response += \"{0} : {1}     \".format(item[i],data[i])\n",
    "\n",
    "    return response \n",
    "\n",
    "slot = ['Apple','20170102']\n",
    "RuleBasedNlg('query', slot)"
   ]
  },
  {
   "cell_type": "code",
   "execution_count": null,
   "metadata": {
    "collapsed": true
   },
   "outputs": [],
   "source": []
  },
  {
   "cell_type": "code",
   "execution_count": null,
   "metadata": {
    "collapsed": true
   },
   "outputs": [],
   "source": []
  }
 ],
 "metadata": {
  "kernelspec": {
   "display_name": "Python 3",
   "language": "python",
   "name": "python3"
  },
  "language_info": {
   "codemirror_mode": {
    "name": "ipython",
    "version": 3
   },
   "file_extension": ".py",
   "mimetype": "text/x-python",
   "name": "python",
   "nbconvert_exporter": "python",
   "pygments_lexer": "ipython3",
   "version": "3.6.0"
  }
 },
 "nbformat": 4,
 "nbformat_minor": 2
}
